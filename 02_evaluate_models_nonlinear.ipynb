{
 "cells": [
  {
   "cell_type": "markdown",
   "id": "e7ef9f8a-cd01-4a52-b097-653ff64fe26f",
   "metadata": {},
   "source": [
    "# Create non-linear prompts and evaluate models"
   ]
  },
  {
   "cell_type": "code",
   "execution_count": 1,
   "id": "eedd0538-21b6-4d6e-84f2-c3d705716942",
   "metadata": {},
   "outputs": [],
   "source": [
    "import pandas as pd\n",
    "import random\n",
    "import matplotlib.pyplot as plt\n",
    "from tqdm.notebook import tqdm\n",
    "\n",
    "from NonLinearGraphGenerator import *\n",
    "from ModelFunctions import *\n",
    "\n",
    "# Increase resolution of plots\n",
    "plt.rcParams['figure.dpi'] = 150\n",
    "plt.rcParams['figure.figsize'] = [15, 7]\n",
    "\n",
    "%load_ext autoreload\n",
    "%autoreload 2"
   ]
  },
  {
   "cell_type": "code",
   "execution_count": 2,
   "id": "398ab580-4ff2-4272-ac62-92f5dfa71c2c",
   "metadata": {},
   "outputs": [],
   "source": [
    "# OpenAI models\n",
    "GPT_model = 'gpt-4o-mini'\n",
    "# GPT_model = 'gpt-4o'\n",
    "# GPT_model = 'o1-preview'\n",
    "\n",
    "#Anthropic models\n",
    "anthropic_model = 'claude-3-5-haiku-latest'\n",
    "# anthropic_model = 'claude-3-5-sonnet-latest'\n",
    "\n",
    "#Google models\n",
    "google_model = \"gemini-1.5-flash\"\n",
    "# google_model = \"gemini-1.5-pro\"\n",
    "\n",
    "all_models = ['gpt-4o-mini', 'gpt-4o', 'o1-preview', 'claude-3-5-sonnet-latest', 'claude-3-5-haiku-latest', \"gemini-1.5-flash\", \"gemini-1.5-pro\"]"
   ]
  },
  {
   "cell_type": "code",
   "execution_count": 3,
   "id": "a9896083-3c15-4225-90b0-f8338e5b602a",
   "metadata": {},
   "outputs": [
    {
     "data": {
      "text/plain": [
       "Case with 4 arguments and the following prompt:\n",
       "###\n",
       "The following is a reasoning puzzle. Witnesses should be believed unless there is testimony that they are lying. Now consider the following facts:\n",
       "Witness Mallory says that the book is interesting.\n",
       "Witness Sloane says that witness Mallory is lying.\n",
       "Witness Imani says that witness Mallory is lying.\n",
       "Witness Nina says that witness Imani is lying.\n",
       "Question: should it be believed that is the book interesting?\n",
       "End your answer with: \"Answer: yes or no\"\n",
       "###\n",
       "\n",
       "Answer: False"
      ]
     },
     "execution_count": 3,
     "metadata": {},
     "output_type": "execute_result"
    }
   ],
   "source": [
    "gen = CaseGenerator(shuffle_arguments=False)\n",
    "c = gen.generate_case((1,2,))\n",
    "c"
   ]
  },
  {
   "cell_type": "markdown",
   "id": "7c5edaa7-bcbb-48e6-ab06-c27ad4a2455b",
   "metadata": {},
   "source": [
    "### Create a temporary static benchmark for testing purposes"
   ]
  },
  {
   "cell_type": "code",
   "execution_count": 4,
   "id": "d44f3ffc-e1db-45e2-a5d2-cfdd39c09835",
   "metadata": {},
   "outputs": [],
   "source": [
    "num_variations = 5 # Num ontological variations\n",
    "min_args = 1 # Minimum number of arguments in graph\n",
    "max_args = 15 # Maxmimum number of arguments in graph\n",
    "shuffle = False # whether to shuffle the arguments\n",
    "run = '' #Identifier\n",
    "\n",
    "\n",
    "df = []\n",
    "gen = CaseGenerator(shuffle_arguments=shuffle)\n",
    "for iter_x in range(0, num_variations):\n",
    "    for num_args in range(min_args, max_args+1):\n",
    "        all_cases = gen.generate_all_cases(num_args)\n",
    "        for c in all_cases:\n",
    "            case = {\n",
    "                'id': str(iter_x) + '_' + '_'.join(str(n) for n in c.format),\n",
    "                'num_args' : c.num_arguments,\n",
    "                'format' : c.format,\n",
    "                'prompt' : c.prompt,\n",
    "                'answer' : c.answer,\n",
    "             }\n",
    "            df.append(case)\n",
    "pd.DataFrame(df).to_csv('static_benchmarks/static_non_linear_'+str(num_variations)+'_'+str(num_args)+'_shuffle_'+str(shuffle)+run+'.csv', index=False)"
   ]
  },
  {
   "cell_type": "code",
   "execution_count": 5,
   "id": "1824a988-5365-4f31-936b-7dbfa46507a6",
   "metadata": {},
   "outputs": [
    {
     "data": {
      "text/plain": [
       "2540"
      ]
     },
     "execution_count": 5,
     "metadata": {},
     "output_type": "execute_result"
    }
   ],
   "source": [
    "len(df)"
   ]
  },
  {
   "cell_type": "code",
   "execution_count": 6,
   "id": "dc79278a-6afe-4acc-8777-9f5b13b93cb2",
   "metadata": {},
   "outputs": [],
   "source": [
    "# Create a shuffled version\n",
    "def shuffle_statements_prompt(prompt):\n",
    "    split_prompt = prompt.split('\\n')\n",
    "    statements = split_prompt[1:-2]\n",
    "    random.shuffle(statements)\n",
    "    new_prompt = '\\n'.join([split_prompt[0]] + statements + split_prompt[-2:])\n",
    "    return new_prompt\n",
    "    \n",
    "shuffle_df = pd.read_csv('static_benchmarks/static_non_linear_'+str(num_variations)+'_'+str(max_args)+'_shuffle_'+str(shuffle)+run+'.csv')\n",
    "shuffle_df['prompt'] = shuffle_df.apply(lambda x: shuffle_statements_prompt(x['prompt']), axis=1)\n",
    "shuffle_df.to_csv('static_benchmarks/static_non_linear_'+str(num_variations)+'_'+str(max_args)+'_shuffle_True.csv')\n",
    "# print(df['prompt'][50], '\\n')\n",
    "# print(shuffle_df['prompt'][50])"
   ]
  },
  {
   "cell_type": "markdown",
   "id": "465c224b-0c6b-40b5-bd2c-7182ce9e8ce9",
   "metadata": {},
   "source": [
    "## Make calls to LLM and get results"
   ]
  },
  {
   "cell_type": "code",
   "execution_count": 7,
   "id": "ccc40569-78b7-4b32-b503-c911ace68f00",
   "metadata": {},
   "outputs": [
    {
     "name": "stdout",
     "output_type": "stream",
     "text": [
      "2540\n"
     ]
    },
    {
     "data": {
      "text/html": [
       "<div>\n",
       "<style scoped>\n",
       "    .dataframe tbody tr th:only-of-type {\n",
       "        vertical-align: middle;\n",
       "    }\n",
       "\n",
       "    .dataframe tbody tr th {\n",
       "        vertical-align: top;\n",
       "    }\n",
       "\n",
       "    .dataframe thead th {\n",
       "        text-align: right;\n",
       "    }\n",
       "</style>\n",
       "<table border=\"1\" class=\"dataframe\">\n",
       "  <thead>\n",
       "    <tr style=\"text-align: right;\">\n",
       "      <th></th>\n",
       "      <th>id</th>\n",
       "      <th>num_args</th>\n",
       "      <th>format</th>\n",
       "      <th>prompt</th>\n",
       "      <th>answer</th>\n",
       "    </tr>\n",
       "  </thead>\n",
       "  <tbody>\n",
       "    <tr>\n",
       "      <th>0</th>\n",
       "      <td>0_0</td>\n",
       "      <td>1</td>\n",
       "      <td>(0,)</td>\n",
       "      <td>The following is a reasoning puzzle. Witnesses...</td>\n",
       "      <td>1</td>\n",
       "    </tr>\n",
       "    <tr>\n",
       "      <th>1</th>\n",
       "      <td>0_1</td>\n",
       "      <td>2</td>\n",
       "      <td>(1,)</td>\n",
       "      <td>The following is a reasoning puzzle. Witnesses...</td>\n",
       "      <td>0</td>\n",
       "    </tr>\n",
       "    <tr>\n",
       "      <th>2</th>\n",
       "      <td>0_2</td>\n",
       "      <td>3</td>\n",
       "      <td>(2,)</td>\n",
       "      <td>The following is a reasoning puzzle. Witnesses...</td>\n",
       "      <td>1</td>\n",
       "    </tr>\n",
       "    <tr>\n",
       "      <th>3</th>\n",
       "      <td>0_1_1</td>\n",
       "      <td>3</td>\n",
       "      <td>(1, 1)</td>\n",
       "      <td>The following is a reasoning puzzle. Witnesses...</td>\n",
       "      <td>0</td>\n",
       "    </tr>\n",
       "    <tr>\n",
       "      <th>4</th>\n",
       "      <td>0_3</td>\n",
       "      <td>4</td>\n",
       "      <td>(3,)</td>\n",
       "      <td>The following is a reasoning puzzle. Witnesses...</td>\n",
       "      <td>0</td>\n",
       "    </tr>\n",
       "  </tbody>\n",
       "</table>\n",
       "</div>"
      ],
      "text/plain": [
       "      id  num_args  format                                             prompt  \\\n",
       "0    0_0         1    (0,)  The following is a reasoning puzzle. Witnesses...   \n",
       "1    0_1         2    (1,)  The following is a reasoning puzzle. Witnesses...   \n",
       "2    0_2         3    (2,)  The following is a reasoning puzzle. Witnesses...   \n",
       "3  0_1_1         3  (1, 1)  The following is a reasoning puzzle. Witnesses...   \n",
       "4    0_3         4    (3,)  The following is a reasoning puzzle. Witnesses...   \n",
       "\n",
       "   answer  \n",
       "0       1  \n",
       "1       0  \n",
       "2       1  \n",
       "3       0  \n",
       "4       0  "
      ]
     },
     "execution_count": 7,
     "metadata": {},
     "output_type": "execute_result"
    }
   ],
   "source": [
    "case_df = pd.read_csv('static_benchmarks/static_non_linear_5_15_Shuffle_False' + run + '.csv')\n",
    "print(len(case_df))\n",
    "case_df.head()"
   ]
  },
  {
   "cell_type": "code",
   "execution_count": 8,
   "id": "caf628b5-f44a-4378-a231-7ba6d46978c9",
   "metadata": {},
   "outputs": [
    {
     "name": "stdout",
     "output_type": "stream",
     "text": [
      "Model: dummy\n",
      "(2540/2540) 100.0% ETA:0:0:0\n",
      "\n"
     ]
    }
   ],
   "source": [
    "run = '_nonlinear'\n",
    "result_df = []\n",
    "\n",
    "all_models = ['gpt-4o-mini', 'gpt-4o',  'claude-3-5-haiku-latest', 'claude-3-5-sonnet-latest', \"gemini-1.5-flash\", \"gemini-1.5-pro\"] \n",
    "all_models = ['dummy'] # Change this\n",
    "\n",
    "for model in all_models:\n",
    "    print('Model:', model)\n",
    "    filename = 'results/'+model.replace('.', '') + run + '.csv'\n",
    "    current_id = 0\n",
    "    \n",
    "    start_time = monotonic()\n",
    "    for idx, case in case_df.iloc[current_id:].iterrows():\n",
    "        iteration = int(case['id'].split('_')[0])\n",
    "        print_status(idx, len(case_df), current_id, start_time)\n",
    "        c = Case(case['num_args'], case['format'], case['prompt'], case['answer'])\n",
    "        result = make_llm_call(c.prompt, model=model)\n",
    "        write_csv(filename, {\n",
    "            'iteration': iteration,\n",
    "            'num_args': c.num_arguments,\n",
    "            'format': c.format,\n",
    "            'prompt': c.prompt,\n",
    "            'full_response': result,\n",
    "            'processed_response': process_answer(result),\n",
    "            'correct_answer': c.answer,\n",
    "        })\n",
    "    print_status(idx+1, len(case_df), current_id, start_time)\n",
    "    print('\\n')"
   ]
  },
  {
   "cell_type": "markdown",
   "id": "dfb885f0-06d4-4d02-9623-d4267d87d71f",
   "metadata": {},
   "source": [
    "## Shuffled: Make calls to LLM and get results"
   ]
  },
  {
   "cell_type": "code",
   "execution_count": 9,
   "id": "e6621177-c1a2-4a21-a651-8345f2a6f286",
   "metadata": {},
   "outputs": [
    {
     "name": "stdout",
     "output_type": "stream",
     "text": [
      "2540\n"
     ]
    },
    {
     "data": {
      "text/html": [
       "<div>\n",
       "<style scoped>\n",
       "    .dataframe tbody tr th:only-of-type {\n",
       "        vertical-align: middle;\n",
       "    }\n",
       "\n",
       "    .dataframe tbody tr th {\n",
       "        vertical-align: top;\n",
       "    }\n",
       "\n",
       "    .dataframe thead th {\n",
       "        text-align: right;\n",
       "    }\n",
       "</style>\n",
       "<table border=\"1\" class=\"dataframe\">\n",
       "  <thead>\n",
       "    <tr style=\"text-align: right;\">\n",
       "      <th></th>\n",
       "      <th>Unnamed: 0</th>\n",
       "      <th>id</th>\n",
       "      <th>num_args</th>\n",
       "      <th>format</th>\n",
       "      <th>prompt</th>\n",
       "      <th>answer</th>\n",
       "    </tr>\n",
       "  </thead>\n",
       "  <tbody>\n",
       "    <tr>\n",
       "      <th>0</th>\n",
       "      <td>0</td>\n",
       "      <td>0_0</td>\n",
       "      <td>1</td>\n",
       "      <td>(0,)</td>\n",
       "      <td>The following is a reasoning puzzle. Witnesses...</td>\n",
       "      <td>1</td>\n",
       "    </tr>\n",
       "    <tr>\n",
       "      <th>1</th>\n",
       "      <td>1</td>\n",
       "      <td>0_1</td>\n",
       "      <td>2</td>\n",
       "      <td>(1,)</td>\n",
       "      <td>The following is a reasoning puzzle. Witnesses...</td>\n",
       "      <td>0</td>\n",
       "    </tr>\n",
       "    <tr>\n",
       "      <th>2</th>\n",
       "      <td>2</td>\n",
       "      <td>0_2</td>\n",
       "      <td>3</td>\n",
       "      <td>(2,)</td>\n",
       "      <td>The following is a reasoning puzzle. Witnesses...</td>\n",
       "      <td>1</td>\n",
       "    </tr>\n",
       "    <tr>\n",
       "      <th>3</th>\n",
       "      <td>3</td>\n",
       "      <td>0_1_1</td>\n",
       "      <td>3</td>\n",
       "      <td>(1, 1)</td>\n",
       "      <td>The following is a reasoning puzzle. Witnesses...</td>\n",
       "      <td>0</td>\n",
       "    </tr>\n",
       "    <tr>\n",
       "      <th>4</th>\n",
       "      <td>4</td>\n",
       "      <td>0_3</td>\n",
       "      <td>4</td>\n",
       "      <td>(3,)</td>\n",
       "      <td>The following is a reasoning puzzle. Witnesses...</td>\n",
       "      <td>0</td>\n",
       "    </tr>\n",
       "  </tbody>\n",
       "</table>\n",
       "</div>"
      ],
      "text/plain": [
       "   Unnamed: 0     id  num_args  format  \\\n",
       "0           0    0_0         1    (0,)   \n",
       "1           1    0_1         2    (1,)   \n",
       "2           2    0_2         3    (2,)   \n",
       "3           3  0_1_1         3  (1, 1)   \n",
       "4           4    0_3         4    (3,)   \n",
       "\n",
       "                                              prompt  answer  \n",
       "0  The following is a reasoning puzzle. Witnesses...       1  \n",
       "1  The following is a reasoning puzzle. Witnesses...       0  \n",
       "2  The following is a reasoning puzzle. Witnesses...       1  \n",
       "3  The following is a reasoning puzzle. Witnesses...       0  \n",
       "4  The following is a reasoning puzzle. Witnesses...       0  "
      ]
     },
     "execution_count": 9,
     "metadata": {},
     "output_type": "execute_result"
    }
   ],
   "source": [
    "case_df = pd.read_csv('static_benchmarks/static_non_linear_5_15_Shuffle_True.csv')\n",
    "print(len(case_df))\n",
    "case_df.head()"
   ]
  },
  {
   "cell_type": "code",
   "execution_count": 10,
   "id": "6b751740-5e94-4abf-845e-80c5485dba81",
   "metadata": {},
   "outputs": [
    {
     "name": "stdout",
     "output_type": "stream",
     "text": [
      "Model: dummy\n",
      "(2540/2540) 100.0% ETA:0:0:0\n",
      "\n"
     ]
    }
   ],
   "source": [
    "run = '_nonlinear_shuffled'\n",
    "result_df = []\n",
    "\n",
    "all_models = ['gpt-4o-mini', 'gpt-4o',  'claude-3-5-haiku-latest', 'claude-3-5-sonnet-latest', \"gemini-1.5-flash\", \"gemini-1.5-pro\"] \n",
    "all_models = ['dummy'] # Change this\n",
    "\n",
    "for model in all_models:\n",
    "    print('Model:', model)\n",
    "    filename = 'results/'+model.replace('.', '') + run + '.csv'\n",
    "    current_id = 0\n",
    "    \n",
    "    start_time = monotonic()\n",
    "    for idx, case in case_df.iloc[current_id:].iterrows():\n",
    "        iteration = int(case['id'].split('_')[0])\n",
    "        print_status(idx, len(case_df), current_id, start_time)\n",
    "        c = Case(case['num_args'], case['format'], case['prompt'], case['answer'])\n",
    "        result = make_llm_call(c.prompt, model=model)\n",
    "        write_csv(filename, {\n",
    "            'iteration': iteration,\n",
    "            'num_args': c.num_arguments,\n",
    "            'format': c.format,\n",
    "            'prompt': c.prompt,\n",
    "            'full_response': result,\n",
    "            'processed_response': process_answer(result),\n",
    "            'correct_answer': c.answer,\n",
    "        })\n",
    "    print_status(idx+1, len(case_df), current_id, start_time)\n",
    "    print('\\n')"
   ]
  }
 ],
 "metadata": {
  "kernelspec": {
   "display_name": "Python 3 (ipykernel)",
   "language": "python",
   "name": "python3"
  },
  "language_info": {
   "codemirror_mode": {
    "name": "ipython",
    "version": 3
   },
   "file_extension": ".py",
   "mimetype": "text/x-python",
   "name": "python",
   "nbconvert_exporter": "python",
   "pygments_lexer": "ipython3",
   "version": "3.12.7"
  }
 },
 "nbformat": 4,
 "nbformat_minor": 5
}
